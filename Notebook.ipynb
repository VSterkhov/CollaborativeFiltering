{
 "cells": [
  {
   "cell_type": "markdown",
   "id": "23a99e13-b11c-496d-8e9f-13fdb072e73f",
   "metadata": {},
   "source": [
    "Инфо по surprise\n",
    "https://surpriselib.com/\n",
    "\n",
    "Загрузим набор данных movielens на 1млн и создадим объект SVD++"
   ]
  },
  {
   "cell_type": "code",
   "execution_count": 1,
   "id": "56cc55ed-de4e-4520-a91f-44ae29e8c846",
   "metadata": {},
   "outputs": [],
   "source": [
    "from surprise import accuracy, Dataset, SVDpp\n",
    "from surprise.model_selection import cross_validate\n",
    "from surprise.model_selection import KFold\n",
    "from collections import defaultdict\n",
    "\n",
    "data = Dataset.load_builtin('ml-1m')\n",
    "algo = SVDpp(verbose=True)"
   ]
  },
  {
   "cell_type": "markdown",
   "id": "7b74f002-ef1f-45ac-9c42-cef96dc7aa5e",
   "metadata": {},
   "source": [
    "Проверим влияние на набор данных метрикой RMSE с KFold 5"
   ]
  },
  {
   "cell_type": "code",
   "execution_count": 2,
   "id": "fe13cb66-8e7b-4d15-8288-308f0df16860",
   "metadata": {},
   "outputs": [
    {
     "name": "stdout",
     "output_type": "stream",
     "text": [
      " processing epoch 0\n",
      " processing epoch 1\n",
      " processing epoch 2\n",
      " processing epoch 3\n",
      " processing epoch 4\n",
      " processing epoch 5\n",
      " processing epoch 6\n",
      " processing epoch 7\n",
      " processing epoch 8\n",
      " processing epoch 9\n",
      " processing epoch 10\n",
      " processing epoch 11\n",
      " processing epoch 12\n",
      " processing epoch 13\n",
      " processing epoch 14\n",
      " processing epoch 15\n",
      " processing epoch 16\n",
      " processing epoch 17\n",
      " processing epoch 18\n",
      " processing epoch 19\n",
      " processing epoch 0\n",
      " processing epoch 1\n",
      " processing epoch 2\n",
      " processing epoch 3\n",
      " processing epoch 4\n",
      " processing epoch 5\n",
      " processing epoch 6\n",
      " processing epoch 7\n",
      " processing epoch 8\n",
      " processing epoch 9\n",
      " processing epoch 10\n",
      " processing epoch 11\n",
      " processing epoch 12\n",
      " processing epoch 13\n",
      " processing epoch 14\n",
      " processing epoch 15\n",
      " processing epoch 16\n",
      " processing epoch 17\n",
      " processing epoch 18\n",
      " processing epoch 19\n",
      " processing epoch 0\n",
      " processing epoch 1\n",
      " processing epoch 2\n",
      " processing epoch 3\n",
      " processing epoch 4\n",
      " processing epoch 5\n",
      " processing epoch 6\n",
      " processing epoch 7\n",
      " processing epoch 8\n",
      " processing epoch 9\n",
      " processing epoch 10\n",
      " processing epoch 11\n",
      " processing epoch 12\n",
      " processing epoch 13\n",
      " processing epoch 14\n",
      " processing epoch 15\n",
      " processing epoch 16\n",
      " processing epoch 17\n",
      " processing epoch 18\n",
      " processing epoch 19\n",
      " processing epoch 0\n",
      " processing epoch 1\n",
      " processing epoch 2\n",
      " processing epoch 3\n",
      " processing epoch 4\n",
      " processing epoch 5\n",
      " processing epoch 6\n",
      " processing epoch 7\n",
      " processing epoch 8\n",
      " processing epoch 9\n",
      " processing epoch 10\n",
      " processing epoch 11\n",
      " processing epoch 12\n",
      " processing epoch 13\n",
      " processing epoch 14\n",
      " processing epoch 15\n",
      " processing epoch 16\n",
      " processing epoch 17\n",
      " processing epoch 18\n",
      " processing epoch 19\n",
      " processing epoch 0\n",
      " processing epoch 1\n",
      " processing epoch 2\n",
      " processing epoch 3\n",
      " processing epoch 4\n",
      " processing epoch 5\n",
      " processing epoch 6\n",
      " processing epoch 7\n",
      " processing epoch 8\n",
      " processing epoch 9\n",
      " processing epoch 10\n",
      " processing epoch 11\n",
      " processing epoch 12\n",
      " processing epoch 13\n",
      " processing epoch 14\n",
      " processing epoch 15\n",
      " processing epoch 16\n",
      " processing epoch 17\n",
      " processing epoch 18\n",
      " processing epoch 19\n"
     ]
    }
   ],
   "source": [
    "perf = cross_validate(algo, data, measures=['RMSE'], cv=5)"
   ]
  },
  {
   "cell_type": "markdown",
   "id": "6b5c9e87-90da-4e66-ba46-fe6a1bb2488c",
   "metadata": {},
   "source": [
    "Вывеем результаты RMSE - квадратный корень из средней квадратичной разницы между прогнозируемыми значениями и фактическими значениями в наборе данных."
   ]
  },
  {
   "cell_type": "code",
   "execution_count": 3,
   "id": "75390801-0d04-4ce2-a28f-6a509ea4d5fd",
   "metadata": {},
   "outputs": [
    {
     "name": "stdout",
     "output_type": "stream",
     "text": [
      "CrossValidate RMSE [0.86153277 0.86342977 0.86017243 0.86159412 0.86390993]\n"
     ]
    }
   ],
   "source": [
    "print('CrossValidate RMSE', perf['test_rmse'])"
   ]
  }
 ],
 "metadata": {
  "kernelspec": {
   "display_name": "Python 3 (ipykernel)",
   "language": "python",
   "name": "python3"
  },
  "language_info": {
   "codemirror_mode": {
    "name": "ipython",
    "version": 3
   },
   "file_extension": ".py",
   "mimetype": "text/x-python",
   "name": "python",
   "nbconvert_exporter": "python",
   "pygments_lexer": "ipython3",
   "version": "3.9.13"
  }
 },
 "nbformat": 4,
 "nbformat_minor": 5
}
